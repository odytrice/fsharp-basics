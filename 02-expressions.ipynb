{
 "cells": [
  {
   "cell_type": "markdown",
   "metadata": {},
   "source": [
    "Expressions\n",
    "=====================\n",
    "\n",
    "An Expression in F# is a collection of values, variables, functions and operators that combined together produces a definite value. This means that expressions themselves can be used in other expressions.\n",
    "\n",
    "for example\n"
   ]
  },
  {
   "cell_type": "code",
   "execution_count": 1,
   "metadata": {},
   "outputs": [
    {
     "data": {
      "text/plain": [
       "4"
      ]
     },
     "execution_count": 1,
     "metadata": {},
     "output_type": "execute_result"
    }
   ],
   "source": [
    "2 + 2"
   ]
  },
  {
   "cell_type": "markdown",
   "metadata": {},
   "source": [
    "In F# expressions can be joined together using a semi-colon or a new line. This creates a bigger expression whose value is the value of the last expression"
   ]
  },
  {
   "cell_type": "code",
   "execution_count": 2,
   "metadata": {},
   "outputs": [
    {
     "data": {
      "text/plain": [
       "6"
      ]
     },
     "execution_count": 2,
     "metadata": {},
     "output_type": "execute_result"
    }
   ],
   "source": [
    "2 + 2; 3 * 2;"
   ]
  },
  {
   "cell_type": "markdown",
   "metadata": {},
   "source": [
    "You can have multiple expressions combined by putting them on a new line"
   ]
  },
  {
   "cell_type": "code",
   "execution_count": 3,
   "metadata": {},
   "outputs": [
    {
     "data": {
      "text/plain": [
       "6"
      ]
     },
     "execution_count": 3,
     "metadata": {},
     "output_type": "execute_result"
    }
   ],
   "source": [
    "let a = \n",
    "    2 + 2\n",
    "    3 * 2\n",
    "a"
   ]
  },
  {
   "cell_type": "markdown",
   "metadata": {},
   "source": [
    "## Unit Value\n",
    "\n",
    "In F# there is a special value called `unit` It's a single value represented by `()` and has a type of `unit`. Unit is a special value because it represent the idea of \"Nothing\" not \"Null\".. \"Nothing\" or in many other languages \"Void\". In F# all expressions **MUST** return a value. So for expressions that don't have anything to return, they return Unit instead.\n",
    "\n",
    "This is important because unit is a value like any other value we looked at in the previous lesson. This means that you can have `Array<unit>` amongst other things."
   ]
  },
  {
   "cell_type": "code",
   "execution_count": 4,
   "metadata": {},
   "outputs": [
    {
     "data": {
      "text/html": [
       "<null>"
      ]
     },
     "execution_count": 4,
     "metadata": {},
     "output_type": "execute_result"
    }
   ],
   "source": [
    "let z = ()\n",
    "z"
   ]
  },
  {
   "cell_type": "markdown",
   "metadata": {},
   "source": [
    "Because `unit` is a unique kind of value that we don't need, assigning it to a named value like `z` is overkill at best. In situations like these we use the `do` keyword to indicate that the expression returns `unit` and that we don't care about the value of the expression. so the previous example can now be described as"
   ]
  },
  {
   "cell_type": "code",
   "execution_count": 5,
   "metadata": {},
   "outputs": [
    {
     "data": {
      "text/html": [
       "<null>"
      ]
     },
     "execution_count": 5,
     "metadata": {},
     "output_type": "execute_result"
    }
   ],
   "source": [
    "do ()"
   ]
  },
  {
   "cell_type": "markdown",
   "metadata": {},
   "source": [
    "Unit is also the return type for expressions that are expected to have no value like assignment of values to variables"
   ]
  },
  {
   "cell_type": "code",
   "execution_count": 6,
   "metadata": {},
   "outputs": [
    {
     "data": {
      "text/html": [
       "<null>"
      ]
     },
     "execution_count": 6,
     "metadata": {},
     "output_type": "execute_result"
    }
   ],
   "source": [
    "let mutable myVariable = 0\n",
    "\n",
    "//The type of unitVariable is unit\n",
    "let unitVariable = myVariable <- 10 \n",
    "\n",
    "//The expression can be simplified as    \n",
    "do myVariable <- 12 "
   ]
  },
  {
   "cell_type": "markdown",
   "metadata": {},
   "source": [
    "## Basic Expressions\n",
    "\n",
    "In this tutorial we'll look at the following types of expressions\n",
    "\n",
    "1. if-expressions\n",
    "2. match expressions\n",
    "3. for expressions\n",
    "4. while expression\n",
    "5. List comprehensions\n",
    "6. Sequences"
   ]
  },
  {
   "cell_type": "markdown",
   "metadata": {},
   "source": [
    "### If Expression\n",
    "\n",
    "In F# an if expression can return either one of two expressions depending on the result of a condition expression. the general syntax is \n",
    "\n",
    "```fsharp\n",
    "if boolean-expression then expression1 [ else expression2 ]\n",
    "```\n",
    "\n",
    "where the condition is any expression that evaluates to a boolean value (true or false). If the value is true then the value of the If statement becomes the value of `expression1` otherwise the value becomes the value of `expression2`"
   ]
  },
  {
   "cell_type": "code",
   "execution_count": 7,
   "metadata": {},
   "outputs": [
    {
     "data": {
      "text/plain": [
       "1"
      ]
     },
     "execution_count": 7,
     "metadata": {},
     "output_type": "execute_result"
    }
   ],
   "source": [
    "let x = 10\n",
    "if x > 3 then 1 else 2"
   ]
  },
  {
   "cell_type": "markdown",
   "metadata": {},
   "source": [
    "Since the If expression is also an expression, we can assign it's value to another label"
   ]
  },
  {
   "cell_type": "code",
   "execution_count": 8,
   "metadata": {},
   "outputs": [
    {
     "data": {
      "text/plain": [
       "1"
      ]
     },
     "execution_count": 8,
     "metadata": {},
     "output_type": "execute_result"
    }
   ],
   "source": [
    "let ifResult = if x > 3 then 1 else 2\n",
    "ifResult"
   ]
  },
  {
   "cell_type": "markdown",
   "metadata": {},
   "source": [
    "Because If is an expression, the return type of both `expression1` and `expression2` **MUST** be of the same type of expression so you can't have `expression1` evalute to an `int` and `expression2` evalute to a `string` for example "
   ]
  },
  {
   "cell_type": "code",
   "execution_count": 9,
   "metadata": {},
   "outputs": [
    {
     "data": {
      "text/plain": [
       "1"
      ]
     },
     "execution_count": 9,
     "metadata": {},
     "output_type": "execute_result"
    }
   ],
   "source": [
    "if x > 3 then 1 else \"two\"; 2"
   ]
  },
  {
   "cell_type": "markdown",
   "metadata": {},
   "source": [
    "The slight exception to this rule is that You can omit the `else` branch of the expression `if` branch of the expression returns `unit`. "
   ]
  },
  {
   "cell_type": "code",
   "execution_count": 10,
   "metadata": {},
   "outputs": [
    {
     "data": {
      "text/html": [
       "<null>"
      ]
     },
     "execution_count": 10,
     "metadata": {},
     "output_type": "execute_result"
    }
   ],
   "source": [
    "if x > 3 then ()"
   ]
  },
  {
   "cell_type": "markdown",
   "metadata": {},
   "source": [
    "That's because the compiler will just fill in the else branch for you like so"
   ]
  },
  {
   "cell_type": "code",
   "execution_count": 11,
   "metadata": {},
   "outputs": [
    {
     "data": {
      "text/html": [
       "<null>"
      ]
     },
     "execution_count": 11,
     "metadata": {},
     "output_type": "execute_result"
    }
   ],
   "source": [
    "if x > 3 then () else ()"
   ]
  },
  {
   "cell_type": "markdown",
   "metadata": {},
   "source": [
    "### Match Expressions"
   ]
  },
  {
   "cell_type": "markdown",
   "metadata": {},
   "source": [
    "Match Expressions are like if expressions but they go way beyond the scope of IF expressions. It's one of the major ways of doing pattern matching. [Pattern Matching](https://docs.microsoft.com/en-us/dotnet/fsharp/language-reference/pattern-matching) is topic we will visit multiple times through out this course. But we will keep things simple for now.\n",
    "\n",
    "A match expression simply evaluates if a value \"matches\" an pattern and if it does, the expression assigned to that pattern is evaluated.\n",
    "\n",
    "```fsharp\n",
    "match <expression> with\n",
    "| <pattern> -> <expression>\n",
    "| <pattern> -> <expression>\n",
    "...\n",
    "```\n"
   ]
  },
  {
   "cell_type": "code",
   "execution_count": 12,
   "metadata": {},
   "outputs": [
    {
     "data": {
      "text/plain": [
       "The value is 2"
      ]
     },
     "execution_count": 12,
     "metadata": {},
     "output_type": "execute_result"
    }
   ],
   "source": [
    "let a = 2\n",
    "match a with\n",
    "| 1 -> \"The value is 1\"\n",
    "| 2 -> \"The value is 2\"\n",
    "| 3 -> \"The value is 3\"\n",
    "| _ -> \"The value is not 1 2 or 3\""
   ]
  },
  {
   "cell_type": "markdown",
   "metadata": {},
   "source": [
    "The match expression compares a to 1 and if it matches, It returns  \"The value is 1\" as the value of the match expression. If it doesn't match, It moves on to the next pattern and so on and so forth\n",
    "\n",
    "The last line has something called the \"wildcard pattern\". This pattern matches any and everything.\n",
    "\n",
    "This line is necessary because F# has something called _\"exhaustive pattern matching\"_ which means that the compiler makes sure that there are no cases that we might have forgotten. This is useful if you are matching on a value that has finite posibilites like Discriminated Unions but we'll see discrimintated Unions in a later lesson.\n",
    "\n",
    "The wildcard pattern essentially switches off exhaustive pattern matching so you should think carefully before applying the pattern. In the above case, we can't write a unique case for all approx 6 Billion posibilities of `int32` so we have to use it"
   ]
  },
  {
   "cell_type": "markdown",
   "metadata": {},
   "source": [
    "#### Filters\n",
    "\n",
    "Each pattern in the match expression could have a filter that is evaluated after a match has been found in order to narrow down the match. Like with the if expression, the filter is a boolean expression (evaluates to either true or false)\n",
    "\n",
    "The form is as follows\n",
    "\n",
    "```fsharp\n",
    "match <expression> with\n",
    "| <pattern> when <filter> -> <expression>\n",
    "```\n"
   ]
  },
  {
   "cell_type": "code",
   "execution_count": 13,
   "metadata": {},
   "outputs": [
    {
     "data": {
      "text/plain": [
       "The number is an odd number"
      ]
     },
     "execution_count": 13,
     "metadata": {},
     "output_type": "execute_result"
    }
   ],
   "source": [
    "let number = 125\n",
    "\n",
    "match number with\n",
    "| n when n % 2 = 0 -> \"The number is an even number\"\n",
    "| n -> \"The number is an odd number\""
   ]
  },
  {
   "cell_type": "markdown",
   "metadata": {},
   "source": [
    "In this example, we make use of a \"Variable Pattern\" similar to what we learnt about binding in the previous lesson the value number is **bound** to the identifer n. After that the filter `n % 2 = 0` is then evaluated and if it is true, the expression is then evaluated otherwise, it falls through to the next pattern "
   ]
  },
  {
   "cell_type": "markdown",
   "metadata": {},
   "source": [
    "### For Expressions"
   ]
  },
  {
   "cell_type": "markdown",
   "metadata": {},
   "source": [
    "The `if` and `match` expressions are mainly about making decisions. The `for` expression is about doing repititions. \n",
    "\n",
    "The general form of the `for` expression is as follows\n",
    "\n",
    "```fsharp\n",
    "for identifier = start [ to | downto ] finish do\n",
    "    body-expression\n",
    "```\n",
    "\n",
    "for example"
   ]
  },
  {
   "cell_type": "code",
   "execution_count": 14,
   "metadata": {},
   "outputs": [
    {
     "data": {
      "text/plain": [
       "55"
      ]
     },
     "execution_count": 14,
     "metadata": {},
     "output_type": "execute_result"
    }
   ],
   "source": [
    "let mutable total = 0\n",
    "    \n",
    "// 1 + 2 + 3 + 4 + 5 + 6 + 7 + 8 + 9 + 10    \n",
    "for i = 0 to 10 do\n",
    "    total <- total + i\n",
    "    \n",
    "total"
   ]
  },
  {
   "cell_type": "markdown",
   "metadata": {},
   "source": [
    "In this example, the identifier `i` starts at 0 the body of the expression is evaluated and then i incremented by 1 each time it gets to 10. During each iteration we mutate the variable total by first getting the original value and adding `i` to it.\n",
    "Keep in mind that the value of the body expression **MUST** be `unit`. Because the value of an assignment expression is unit, it compiles just fine. This indirectly means that the result of a for expression is also `unit`\n",
    "\n",
    "To do the same thing in the reverse order we use `downto` instead of `to`"
   ]
  },
  {
   "cell_type": "code",
   "execution_count": 15,
   "metadata": {},
   "outputs": [
    {
     "data": {
      "text/plain": [
       "55"
      ]
     },
     "execution_count": 15,
     "metadata": {},
     "output_type": "execute_result"
    }
   ],
   "source": [
    "let mutable total = 0\n",
    "    \n",
    "// 10 + 9 + 8 + 7 + 6 + 5 + 4 + 3 + 2 + 1    \n",
    "for i = 10 downto 0 do\n",
    "    total <- total + i\n",
    "total"
   ]
  },
  {
   "cell_type": "markdown",
   "metadata": {},
   "source": [
    "A different form of the for in iterates of lists, arrays, ranges or any enumerable expression (more on that later). \n",
    "\n",
    "The structure is as follows\n",
    "\n",
    "```fsharp\n",
    "for pattern in enumerable-expression do\n",
    "    body-expression\n",
    "```\n"
   ]
  },
  {
   "cell_type": "code",
   "execution_count": 16,
   "metadata": {},
   "outputs": [
    {
     "data": {
      "text/plain": [
       "25"
      ]
     },
     "execution_count": 16,
     "metadata": {},
     "output_type": "execute_result"
    }
   ],
   "source": [
    "let mutable total = 0\n",
    "\n",
    "// 1 + 3 + 5 + 7 + 9    \n",
    "for i in 1 .. 2 .. 10 do\n",
    "    total <- total + i\n",
    "\n",
    "total"
   ]
  },
  {
   "cell_type": "markdown",
   "metadata": {},
   "source": [
    "### While Expression"
   ]
  },
  {
   "cell_type": "markdown",
   "metadata": {},
   "source": [
    "The while expression continues to evaluate an expression until a test expression becomes false. It has the form\n",
    "\n",
    "```fsharp\n",
    "while test-expression do\n",
    "    body-expression\n",
    "```\n",
    "\n",
    "The key distinction between the while expression and the for expression is a for expression is said that to be bounded meaning that it has a definite end. \n",
    "\n",
    "The while expression on the other hand can be unbounded meaning that if the test expression never evaluates to false, the loop will run forever. \n",
    "\n",
    "This distinction is useful and will definitely come in handy later"
   ]
  },
  {
   "cell_type": "code",
   "execution_count": 17,
   "metadata": {},
   "outputs": [
    {
     "data": {
      "text/plain": [
       "55"
      ]
     },
     "execution_count": 17,
     "metadata": {},
     "output_type": "execute_result"
    }
   ],
   "source": [
    "let mutable total = 0\n",
    "let mutable i = 1\n",
    "// 0 + 1 + 2 + 3 + 4 + 5 + 6 + 7 + 8 + 9 + 10\n",
    "while i <= 10 do\n",
    "    total <- total + i\n",
    "    i <- i + 1\n",
    "\n",
    "total"
   ]
  },
  {
   "cell_type": "markdown",
   "metadata": {},
   "source": [
    "### List Comprehension\n",
    "\n",
    "Instead of using looping expressions to mutate variables, we could use then to generate datastructures like Lists and Arrays. This is with a `yield` keyword which produces the next element in the sequence."
   ]
  },
  {
   "cell_type": "code",
   "execution_count": 18,
   "metadata": {},
   "outputs": [
    {
     "data": {
      "text/html": [
       "<table><thead><tr><th><i>index</i></th><th>value</th></tr></thead><tbody><tr><td>0</td><td>0</td></tr><tr><td>1</td><td>1</td></tr><tr><td>2</td><td>2</td></tr><tr><td>3</td><td>3</td></tr><tr><td>4</td><td>4</td></tr><tr><td>5</td><td>5</td></tr></tbody></table>"
      ]
     },
     "execution_count": 18,
     "metadata": {},
     "output_type": "execute_result"
    }
   ],
   "source": [
    "[ for i in 0 .. 5 do yield i ]"
   ]
  },
  {
   "cell_type": "markdown",
   "metadata": {},
   "source": [
    "or if you want to get an array"
   ]
  },
  {
   "cell_type": "code",
   "execution_count": 19,
   "metadata": {},
   "outputs": [
    {
     "data": {
      "text/html": [
       "<table><thead><tr><th><i>index</i></th><th>value</th></tr></thead><tbody><tr><td>0</td><td>0</td></tr><tr><td>1</td><td>1</td></tr><tr><td>2</td><td>2</td></tr><tr><td>3</td><td>3</td></tr><tr><td>4</td><td>4</td></tr><tr><td>5</td><td>5</td></tr></tbody></table>"
      ]
     },
     "execution_count": 19,
     "metadata": {},
     "output_type": "execute_result"
    }
   ],
   "source": [
    "[| for i in 0..5 do yield i |]"
   ]
  },
  {
   "cell_type": "markdown",
   "metadata": {},
   "source": [
    "Because the pattern above is very common, It can be shortened to"
   ]
  },
  {
   "cell_type": "code",
   "execution_count": 20,
   "metadata": {},
   "outputs": [
    {
     "data": {
      "text/html": [
       "<table><thead><tr><th><i>index</i></th><th>value</th></tr></thead><tbody><tr><td>0</td><td>0</td></tr><tr><td>1</td><td>1</td></tr><tr><td>2</td><td>2</td></tr><tr><td>3</td><td>3</td></tr><tr><td>4</td><td>4</td></tr><tr><td>5</td><td>5</td></tr></tbody></table>"
      ]
     },
     "execution_count": 20,
     "metadata": {},
     "output_type": "execute_result"
    }
   ],
   "source": [
    "[ for i in 0..5 -> i ]"
   ]
  },
  {
   "cell_type": "markdown",
   "metadata": {},
   "source": [
    "We can also use while loops inside list comprehensions"
   ]
  },
  {
   "cell_type": "code",
   "execution_count": 21,
   "metadata": {},
   "outputs": [
    {
     "data": {
      "text/html": [
       "<table><thead><tr><th><i>index</i></th><th>value</th></tr></thead><tbody><tr><td>0</td><td>2</td></tr><tr><td>1</td><td>3</td></tr><tr><td>2</td><td>4</td></tr><tr><td>3</td><td>5</td></tr><tr><td>4</td><td>6</td></tr><tr><td>5</td><td>7</td></tr><tr><td>6</td><td>8</td></tr><tr><td>7</td><td>9</td></tr><tr><td>8</td><td>10</td></tr></tbody></table>"
      ]
     },
     "execution_count": 21,
     "metadata": {},
     "output_type": "execute_result"
    }
   ],
   "source": [
    "let mutable i = 1\n",
    "[ while i < 10 do i <- i + 1; yield i ]"
   ]
  },
  {
   "cell_type": "markdown",
   "metadata": {},
   "source": [
    "### Sequence Expressions"
   ]
  },
  {
   "cell_type": "markdown",
   "metadata": {},
   "source": [
    "A sequence expression is a lazily evaluted series of items all of the same type. Lazy evaluation means that each value in the sequence expression is only produced on demand. Sequences in F# map to the dotnet `IEnumerable<'T>` under the hood."
   ]
  },
  {
   "cell_type": "code",
   "execution_count": 22,
   "metadata": {},
   "outputs": [
    {
     "data": {
      "text/html": [
       "<table><thead><tr><th><i>index</i></th><th>value</th></tr></thead><tbody><tr><td>0</td><td>1</td></tr><tr><td>1</td><td>2</td></tr><tr><td>2</td><td>3</td></tr><tr><td>3</td><td>4</td></tr><tr><td>4</td><td>5</td></tr><tr><td>5</td><td>6</td></tr><tr><td>6</td><td>7</td></tr><tr><td>7</td><td>8</td></tr><tr><td>8</td><td>9</td></tr><tr><td>9</td><td>10</td></tr></tbody></table>"
      ]
     },
     "execution_count": 22,
     "metadata": {},
     "output_type": "execute_result"
    }
   ],
   "source": [
    "seq { for i = 1 to 10 do i }"
   ]
  },
  {
   "cell_type": "markdown",
   "metadata": {},
   "source": [
    "The key difference is that a each element of the list is not evaluted until the consumer asks for it. A list and arry on the other hand evaluates all it's elements immediately.\n",
    "\n",
    "This means that you can have infinite sequences"
   ]
  },
  {
   "cell_type": "code",
   "execution_count": 23,
   "metadata": {},
   "outputs": [],
   "source": [
    "let batforever = seq { while true do yield \"batman forever\"  }"
   ]
  },
  {
   "cell_type": "markdown",
   "metadata": {},
   "source": [
    "As long as you don't try to iterate through the sequence your program will not crash"
   ]
  }
 ],
 "metadata": {
  "kernelspec": {
   "display_name": ".NET (F#)",
   "language": "F#",
   "name": ".net-fsharp"
  },
  "language_info": {
   "file_extension": ".fs",
   "mimetype": "text/x-fsharp",
   "name": "C#",
   "pygments_lexer": "fsharp",
   "version": "4.5"
  }
 },
 "nbformat": 4,
 "nbformat_minor": 4
}
